{
 "cells": [
  {
   "cell_type": "code",
   "execution_count": 17,
   "metadata": {},
   "outputs": [],
   "source": [
    "import pandas as pd\n",
    "import matplotlib.pyplot as plt\n",
    "from tensorboard.backend.event_processing import event_accumulator"
   ]
  },
  {
   "cell_type": "code",
   "execution_count": 4,
   "metadata": {},
   "outputs": [],
   "source": [
    "path = '../tensorboard_logs/sgp_MNIST_proj_countsketch_scatter_deg_6_lr_0.001_epochs_50_final/events.out.tfevents.1642978353.fde120bc1a72'"
   ]
  },
  {
   "cell_type": "code",
   "execution_count": 5,
   "metadata": {},
   "outputs": [],
   "source": [
    "ea = event_accumulator.EventAccumulator(path,\n",
    "    size_guidance={ # see below regarding this argument\n",
    "    event_accumulator.COMPRESSED_HISTOGRAMS: 500,\n",
    "    event_accumulator.IMAGES: 4,\n",
    "    event_accumulator.AUDIO: 4,\n",
    "    event_accumulator.SCALARS: 0,\n",
    "    event_accumulator.HISTOGRAMS: 1,\n",
    "})"
   ]
  },
  {
   "cell_type": "code",
   "execution_count": 6,
   "metadata": {},
   "outputs": [
    {
     "data": {
      "text/plain": [
       "<tensorboard.backend.event_processing.event_accumulator.EventAccumulator at 0x7f389356e240>"
      ]
     },
     "execution_count": 6,
     "metadata": {},
     "output_type": "execute_result"
    }
   ],
   "source": [
    "ea.Reload()"
   ]
  },
  {
   "cell_type": "code",
   "execution_count": 7,
   "metadata": {},
   "outputs": [
    {
     "data": {
      "text/plain": [
       "{'images': [],\n",
       " 'audio': [],\n",
       " 'histograms': ['q_mean'],\n",
       " 'scalars': ['test_loss',\n",
       "  'test_mnll',\n",
       "  'test_kl',\n",
       "  'test_error',\n",
       "  'time_elapsed',\n",
       "  'train_loss',\n",
       "  'train_mnll',\n",
       "  'train_kl',\n",
       "  'train_error',\n",
       "  'feature_scale',\n",
       "  'learning_rate',\n",
       "  'kl_weight'],\n",
       " 'distributions': ['q_mean'],\n",
       " 'tensors': [],\n",
       " 'graph': False,\n",
       " 'meta_graph': False,\n",
       " 'run_metadata': []}"
      ]
     },
     "execution_count": 7,
     "metadata": {},
     "output_type": "execute_result"
    }
   ],
   "source": [
    "ea.Tags()"
   ]
  },
  {
   "cell_type": "code",
   "execution_count": 8,
   "metadata": {},
   "outputs": [
    {
     "data": {
      "text/plain": [
       "[ScalarEvent(wall_time=1642978355.3570514, step=0, value=28538.458984375),\n",
       " ScalarEvent(wall_time=1642978370.0694687, step=1, value=2650.273681640625),\n",
       " ScalarEvent(wall_time=1642978384.7632139, step=2, value=2231.526123046875),\n",
       " ScalarEvent(wall_time=1642978399.4102447, step=3, value=2179.814697265625),\n",
       " ScalarEvent(wall_time=1642978414.0305884, step=4, value=2254.744873046875),\n",
       " ScalarEvent(wall_time=1642978428.7372885, step=5, value=2340.109130859375),\n",
       " ScalarEvent(wall_time=1642978443.3488526, step=6, value=2465.46728515625),\n",
       " ScalarEvent(wall_time=1642978457.856522, step=7, value=2573.908935546875),\n",
       " ScalarEvent(wall_time=1642978472.4255464, step=8, value=2748.172607421875),\n",
       " ScalarEvent(wall_time=1642978486.9201493, step=9, value=2860.94775390625),\n",
       " ScalarEvent(wall_time=1642978501.5684955, step=10, value=3002.10400390625),\n",
       " ScalarEvent(wall_time=1642978516.1658366, step=11, value=3085.656005859375)]"
      ]
     },
     "execution_count": 8,
     "metadata": {},
     "output_type": "execute_result"
    }
   ],
   "source": [
    "ea.Scalars('test_loss')"
   ]
  },
  {
   "cell_type": "code",
   "execution_count": 9,
   "metadata": {},
   "outputs": [
    {
     "data": {
      "text/plain": [
       "[ScalarEvent(wall_time=1642978355.3576477, step=0, value=0.0014405250549316406),\n",
       " ScalarEvent(wall_time=1642978370.0697236, step=1, value=14.574531555175781),\n",
       " ScalarEvent(wall_time=1642978384.7635908, step=2, value=29.312089920043945),\n",
       " ScalarEvent(wall_time=1642978399.41162, step=3, value=43.950992584228516),\n",
       " ScalarEvent(wall_time=1642978414.030946, step=4, value=58.60696792602539),\n",
       " ScalarEvent(wall_time=1642978428.7375748, step=5, value=73.24610900878906),\n",
       " ScalarEvent(wall_time=1642978443.3491561, step=6, value=87.86273193359375),\n",
       " ScalarEvent(wall_time=1642978457.8568218, step=7, value=102.39937591552734),\n",
       " ScalarEvent(wall_time=1642978472.4258614, step=8, value=116.96446228027344),\n",
       " ScalarEvent(wall_time=1642978486.9204192, step=9, value=131.51995849609375),\n",
       " ScalarEvent(wall_time=1642978501.5687995, step=10, value=146.09133911132812),\n",
       " ScalarEvent(wall_time=1642978516.1660957, step=11, value=160.73046875)]"
      ]
     },
     "execution_count": 9,
     "metadata": {},
     "output_type": "execute_result"
    }
   ],
   "source": [
    "ea.Scalars('time_elapsed')"
   ]
  },
  {
   "cell_type": "code",
   "execution_count": 19,
   "metadata": {},
   "outputs": [],
   "source": [
    "times = pd.DataFrame(ea.Scalars('time_elapsed'))['value'].values\n",
    "losses = pd.DataFrame(ea.Scalars('test_error'))['value'].values"
   ]
  },
  {
   "cell_type": "code",
   "execution_count": 20,
   "metadata": {},
   "outputs": [
    {
     "data": {
      "text/plain": [
       "array([1.44052505e-03, 1.45745316e+01, 2.93120899e+01, 4.39509926e+01,\n",
       "       5.86069679e+01, 7.32461090e+01, 8.78627319e+01, 1.02399376e+02,\n",
       "       1.16964462e+02, 1.31519958e+02, 1.46091339e+02, 1.60730469e+02])"
      ]
     },
     "execution_count": 20,
     "metadata": {},
     "output_type": "execute_result"
    }
   ],
   "source": [
    "times"
   ]
  },
  {
   "cell_type": "code",
   "execution_count": 21,
   "metadata": {},
   "outputs": [
    {
     "data": {
      "text/plain": [
       "array([0.89880002, 0.043     , 0.0325    , 0.0303    , 0.0287    ,\n",
       "       0.0261    , 0.0241    , 0.0223    , 0.0219    , 0.0228    ,\n",
       "       0.0236    , 0.024     ])"
      ]
     },
     "execution_count": 21,
     "metadata": {},
     "output_type": "execute_result"
    }
   ],
   "source": [
    "losses"
   ]
  },
  {
   "cell_type": "code",
   "execution_count": 23,
   "metadata": {},
   "outputs": [
    {
     "data": {
      "image/png": "[encoded data removed]",
      "text/plain": [
       "<Figure size 432x288 with 1 Axes>"
      ]
     },
     "metadata": {
      "needs_background": "light"
     },
     "output_type": "display_data"
    }
   ],
   "source": [
    "plt.plot(times, losses)\n",
    "plt.yscale('log')\n",
    "plt.show()"
   ]
  },
  {
   "cell_type": "code",
   "execution_count": null,
   "metadata": {},
   "outputs": [],
   "source": []
  }
 ],
 "metadata": {
  "kernelspec": {
   "display_name": "Python 3",
   "language": "python",
   "name": "python3"
  },
  "language_info": {
   "codemirror_mode": {
    "name": "ipython",
    "version": 3
   },
   "file_extension": ".py",
   "mimetype": "text/x-python",
   "name": "python",
   "nbconvert_exporter": "python",
   "pygments_lexer": "ipython3",
   "version": "3.7.3"
  }
 },
 "nbformat": 4,
 "nbformat_minor": 2
}
