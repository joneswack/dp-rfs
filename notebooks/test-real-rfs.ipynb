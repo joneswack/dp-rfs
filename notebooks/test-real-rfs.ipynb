{
 "cells": [
  {
   "cell_type": "code",
   "execution_count": 116,
   "id": "owned-charter",
   "metadata": {},
   "outputs": [],
   "source": [
    "import sys \n",
    "sys.path.append('..')\n",
    "import torch\n",
    "from torch.nn.functional import one_hot\n",
    "import numpy as np\n",
    "import matplotlib.pyplot as plt\n",
    "from random_features.polynomial_sketch import PolynomialSketch"
   ]
  },
  {
   "cell_type": "code",
   "execution_count": 38,
   "id": "finite-amount",
   "metadata": {},
   "outputs": [],
   "source": [
    "import util.data"
   ]
  },
  {
   "cell_type": "code",
   "execution_count": 173,
   "id": "worthy-providence",
   "metadata": {},
   "outputs": [],
   "source": [
    "degree = 5\n",
    "a = 4.\n",
    "bias = 1.-2./a**2\n",
    "lengthscale = a / np.sqrt(2.)"
   ]
  },
  {
   "cell_type": "code",
   "execution_count": 167,
   "id": "growing-invitation",
   "metadata": {},
   "outputs": [
    {
     "data": {
      "text/plain": [
       "0.875"
      ]
     },
     "execution_count": 167,
     "metadata": {},
     "output_type": "execute_result"
    }
   ],
   "source": [
    "bias"
   ]
  },
  {
   "cell_type": "code",
   "execution_count": 41,
   "id": "changing-diesel",
   "metadata": {},
   "outputs": [
    {
     "data": {
      "text/plain": [
       "2.82842712474619"
      ]
     },
     "execution_count": 41,
     "metadata": {},
     "output_type": "execute_result"
    }
   ],
   "source": [
    "lengthscale"
   ]
  },
  {
   "cell_type": "code",
   "execution_count": 235,
   "id": "impaired-thickness",
   "metadata": {},
   "outputs": [],
   "source": [
    "train_data, train_labels = torch.load('../../datasets/export/fashion_mnist/pytorch/train_fashion_mnist.pth')\n",
    "test_data, test_labels = torch.load('../../datasets/export/fashion_mnist/pytorch/test_fashion_mnist.pth')"
   ]
  },
  {
   "cell_type": "code",
   "execution_count": 62,
   "id": "assumed-rough",
   "metadata": {},
   "outputs": [],
   "source": [
    "train_data, train_labels = torch.load('../../datasets/export/mnist/pytorch/train_mnist.pth')\n",
    "test_data, test_labels = torch.load('../../datasets/export/mnist/pytorch/test_mnist.pth')"
   ]
  },
  {
   "cell_type": "code",
   "execution_count": 174,
   "id": "right-vulnerability",
   "metadata": {},
   "outputs": [],
   "source": [
    "train_data, train_labels = torch.load('../../datasets/export/adult/pytorch/train_adult.pth')\n",
    "test_data, test_labels = torch.load('../../datasets/export/adult/pytorch/test_adult.pth')"
   ]
  },
  {
   "cell_type": "code",
   "execution_count": 175,
   "id": "still-caution",
   "metadata": {},
   "outputs": [],
   "source": [
    "train_data = train_data.reshape(len(train_data), -1)\n",
    "test_data = test_data.reshape(len(test_data), -1)"
   ]
  },
  {
   "cell_type": "code",
   "execution_count": 176,
   "id": "dirty-uncertainty",
   "metadata": {},
   "outputs": [],
   "source": [
    "# mean = train_data.mean(dim=0, keepdim=True)\n",
    "# std = train_data.std(dim=0, keepdim=True)\n",
    "# std[std==0] = 1.\n",
    "# train_data = (train_data - mean) / std\n",
    "# test_data = (test_data - mean) / std\n",
    "train_data = train_data / train_data.norm(dim=1, keepdim=True)\n",
    "test_data = test_data / test_data.norm(dim=1, keepdim=True)"
   ]
  },
  {
   "cell_type": "code",
   "execution_count": 177,
   "id": "computational-method",
   "metadata": {},
   "outputs": [],
   "source": [
    "indices = torch.randint(len(train_data), (1000,))\n",
    "train_data = train_data[indices]\n",
    "train_labels = train_labels[indices]"
   ]
  },
  {
   "cell_type": "code",
   "execution_count": 178,
   "id": "cathedral-balance",
   "metadata": {},
   "outputs": [],
   "source": [
    "placeholder = torch.zeros(len(train_data), 127)\n",
    "placeholder[:, :train_data.shape[1]] = train_data\n",
    "train_data = placeholder\n",
    "placeholder = torch.zeros(len(test_data), 127)\n",
    "placeholder[:, :test_data.shape[1]] = test_data\n",
    "test_data = placeholder"
   ]
  },
  {
   "cell_type": "code",
   "execution_count": 179,
   "id": "technological-turkish",
   "metadata": {},
   "outputs": [],
   "source": [
    "train_labels = one_hot(train_labels.type(torch.LongTensor)).reshape(-1, 2).type(torch.FloatTensor)\n",
    "test_labels = one_hot(test_labels.type(torch.LongTensor)).reshape(-1, 2).type(torch.FloatTensor)"
   ]
  },
  {
   "cell_type": "code",
   "execution_count": 180,
   "id": "affecting-devil",
   "metadata": {},
   "outputs": [
    {
     "data": {
      "text/plain": [
       "torch.Size([1000, 2])"
      ]
     },
     "execution_count": 180,
     "metadata": {},
     "output_type": "execute_result"
    }
   ],
   "source": [
    "train_labels.shape"
   ]
  },
  {
   "cell_type": "code",
   "execution_count": 181,
   "id": "serial-conversation",
   "metadata": {},
   "outputs": [],
   "source": [
    "def cholesky_solve(y, L):\n",
    "    # L: lower triangular cholesky\n",
    "    return torch.triangular_solve(\n",
    "        torch.triangular_solve(y, L, upper=False)[0],\n",
    "        L.conj().t(), transpose=False, upper=True\n",
    "    )[0]"
   ]
  },
  {
   "cell_type": "code",
   "execution_count": 182,
   "id": "sixth-value",
   "metadata": {},
   "outputs": [],
   "source": [
    "def solve_linear_regression(train_features, train_labels, test_features, lam=0.1):\n",
    "    sigma_inv = train_features.t() @ train_features + torch.eye(len(train_features.t())) * lam\n",
    "    xTy = train_features.t() @ train_labels\n",
    "    L_sigma_inv = torch.cholesky(sigma_inv)\n",
    "    alpha = cholesky_solve(xTy, L_sigma_inv)\n",
    "    return test_features @ alpha"
   ]
  },
  {
   "cell_type": "code",
   "execution_count": 183,
   "id": "consistent-hybrid",
   "metadata": {},
   "outputs": [
    {
     "name": "stdout",
     "output_type": "stream",
     "text": [
      "Degree 5\n"
     ]
    }
   ],
   "source": [
    "real_errors = []\n",
    "comp_errors = []\n",
    "\n",
    "real_accs = []\n",
    "comp_accs = []\n",
    "\n",
    "for degree in [degree]:\n",
    "    print('Degree', degree)\n",
    "    real_errors_cur = []\n",
    "    comp_errors_cur = []\n",
    "    \n",
    "    real_accs_cur = []\n",
    "    comp_accs_cur = []\n",
    "    \n",
    "    for seed in range(20):\n",
    "\n",
    "        # real sketch\n",
    "        feature_encoder = PolynomialSketch(\n",
    "            127, # data input dimension (power of 2 for srht projection_type)\n",
    "            256, # output dimension of the random sketch\n",
    "            degree=degree, # degree of the polynomial kernel\n",
    "            bias=bias, # bias parameter of the polynomial kernel\n",
    "            lengthscale=lengthscale, # inverse scale of the data (like lengthscale for Gaussian kernel)\n",
    "            projection_type='rademacher',\n",
    "            hierarchical=False,\n",
    "            complex_weights=False\n",
    "        )\n",
    "\n",
    "        feature_encoder.resample()\n",
    "        projections_train = feature_encoder.forward(train_data)\n",
    "        projections_test = feature_encoder.forward(test_data)\n",
    "        approx_kernel_real = projections_train @ projections_train.t()\n",
    "        predictions_real = solve_linear_regression(projections_train, train_labels, projections_test, lam=0.1)\n",
    "\n",
    "        # complex sketch\n",
    "        feature_encoder = PolynomialSketch(\n",
    "            127, # data input dimension (power of 2 for srht projection_type)\n",
    "            256, # output dimension of the random sketch\n",
    "            degree=degree, # degree of the polynomial kernel\n",
    "            bias=bias, # bias parameter of the polynomial kernel\n",
    "            lengthscale=lengthscale, # inverse scale of the data (like lengthscale for Gaussian kernel)\n",
    "            projection_type='rademacher',\n",
    "            hierarchical=False,\n",
    "            complex_weights=True\n",
    "        )\n",
    "\n",
    "        feature_encoder.resample()\n",
    "        projections_train = feature_encoder.forward(train_data)\n",
    "        projections_test = feature_encoder.forward(test_data)\n",
    "        projections_train = torch.hstack([projections_train.real, projections_train.imag])\n",
    "        projections_test = torch.hstack([projections_test.real, projections_test.imag])\n",
    "        \n",
    "        predictions_comp = solve_linear_regression(projections_train, train_labels, projections_test, lam=0.1)\n",
    "        approx_kernel_comp = projections_train @ projections_train.t()\n",
    "\n",
    "        # reference kernel\n",
    "        ref_kernel = (bias + (train_data/lengthscale) @ (train_data/lengthscale).t())**degree\n",
    "\n",
    "        # error\n",
    "        real_error = (approx_kernel_real - ref_kernel).pow(2).sum().sqrt()\n",
    "        real_error /= ref_kernel.pow(2).sum().sqrt()\n",
    "\n",
    "        comp_error = (approx_kernel_comp - ref_kernel).pow(2).sum().sqrt()\n",
    "        comp_error /= ref_kernel.pow(2).sum().sqrt()\n",
    "\n",
    "        real_errors_cur.append(real_error.item())\n",
    "        comp_errors_cur.append(comp_error.item())\n",
    "        \n",
    "        real_acc = (predictions_real.argmax(dim=1) == test_labels.argmax(dim=1)).sum() / len(test_labels)\n",
    "        comp_acc = (predictions_comp.argmax(dim=1) == test_labels.argmax(dim=1)).sum() / len(test_labels)\n",
    "        \n",
    "        real_accs_cur.append(real_acc.item())\n",
    "        comp_accs_cur.append(comp_acc.item())\n",
    "        \n",
    "    real_errors.append(np.array(real_errors_cur))\n",
    "    comp_errors.append(np.array(comp_errors_cur))\n",
    "    \n",
    "    real_accs.append(np.array(real_accs_cur))\n",
    "    comp_accs.append(np.array(comp_accs_cur))"
   ]
  },
  {
   "cell_type": "code",
   "execution_count": 184,
   "id": "divine-shareware",
   "metadata": {},
   "outputs": [
    {
     "data": {
      "text/plain": [
       "array([0.11639001])"
      ]
     },
     "execution_count": 184,
     "metadata": {},
     "output_type": "execute_result"
    }
   ],
   "source": [
    "np.mean(np.array(real_errors), axis=1)"
   ]
  },
  {
   "cell_type": "code",
   "execution_count": 185,
   "id": "honest-accent",
   "metadata": {},
   "outputs": [
    {
     "data": {
      "text/plain": [
       "array([0.06811456])"
      ]
     },
     "execution_count": 185,
     "metadata": {},
     "output_type": "execute_result"
    }
   ],
   "source": [
    "np.mean(np.array(comp_errors), axis=1)"
   ]
  },
  {
   "cell_type": "code",
   "execution_count": 186,
   "id": "north-denver",
   "metadata": {},
   "outputs": [
    {
     "data": {
      "text/plain": [
       "array([0.77526258])"
      ]
     },
     "execution_count": 186,
     "metadata": {},
     "output_type": "execute_result"
    }
   ],
   "source": [
    "np.mean(np.array(real_accs), axis=1)"
   ]
  },
  {
   "cell_type": "code",
   "execution_count": 187,
   "id": "british-destiny",
   "metadata": {},
   "outputs": [
    {
     "data": {
      "text/plain": [
       "array([0.77533014])"
      ]
     },
     "execution_count": 187,
     "metadata": {},
     "output_type": "execute_result"
    }
   ],
   "source": [
    "np.mean(np.array(comp_accs), axis=1)"
   ]
  },
  {
   "cell_type": "code",
   "execution_count": 13,
   "id": "meaning-barrier",
   "metadata": {},
   "outputs": [],
   "source": [
    "def var_real(X, p=1):\n",
    "    # sum(x_i y_i)\n",
    "    dot_product = X @ X.t()\n",
    "    # sum(x_i^2 y_i^2)\n",
    "    squared_dot_product = X.pow(2) @ X.pow(2).t()\n",
    "    # ||x||^2 ||y||^2\n",
    "    norms_squared = (X**2).sum(dim=1).unsqueeze(1) * (X**2).sum(dim=1).unsqueeze(0)\n",
    "    \n",
    "    moment_real = (norms_squared + 2 * (dot_product**2 - squared_dot_product))\n",
    "    \n",
    "    return 0.5*(moment_real**p - dot_product**(2*p))"
   ]
  },
  {
   "cell_type": "code",
   "execution_count": 14,
   "id": "focal-scale",
   "metadata": {},
   "outputs": [],
   "source": [
    "def var_difference(X, p=1):\n",
    "    # sum(x_i y_i)\n",
    "    dot_product = X @ X.t()\n",
    "    # sum(x_i^2 y_i^2)\n",
    "    squared_dot_product = X.pow(2) @ X.pow(2).t()\n",
    "    # ||x||^2 ||y||^2\n",
    "    norms_squared = (X**2).sum(dim=1).unsqueeze(1) * (X**2).sum(dim=1).unsqueeze(0)\n",
    "    \n",
    "    moment_real = (norms_squared + 2 * (dot_product**2 - squared_dot_product))\n",
    "    moment_comp_abs = (norms_squared + dot_product**2 - squared_dot_product)\n",
    "    moment_comp_re = (2 * dot_product**2 - squared_dot_product)\n",
    "    \n",
    "    var_dif = 0.5*(moment_real**p - moment_comp_abs**p - moment_comp_re**p + dot_product**(2*p))\n",
    "    \n",
    "    return var_dif"
   ]
  },
  {
   "cell_type": "code",
   "execution_count": 26,
   "id": "asian-plumbing",
   "metadata": {},
   "outputs": [],
   "source": [
    "X = torch.rand(1000, 100)\n",
    "X = X / X.norm(dim=1, keepdim=True)\n",
    "#X[:len(X)//2]*=10"
   ]
  },
  {
   "cell_type": "code",
   "execution_count": 27,
   "id": "finite-aaron",
   "metadata": {},
   "outputs": [
    {
     "data": {
      "text/plain": [
       "tensor(0.4055)"
      ]
     },
     "execution_count": 27,
     "metadata": {},
     "output_type": "execute_result"
    }
   ],
   "source": [
    "(var_difference(X, 1) < 0).sum() / len(X)**2"
   ]
  },
  {
   "cell_type": "code",
   "execution_count": 28,
   "id": "integrated-journal",
   "metadata": {},
   "outputs": [
    {
     "data": {
      "text/plain": [
       "tensor(0.)"
      ]
     },
     "execution_count": 28,
     "metadata": {},
     "output_type": "execute_result"
    }
   ],
   "source": [
    "(var_difference(X, 2) < 0).sum() / len(X)**2"
   ]
  },
  {
   "cell_type": "code",
   "execution_count": 29,
   "id": "published-visit",
   "metadata": {},
   "outputs": [
    {
     "data": {
      "image/png": "[encoded data removed]",
      "text/plain": [
       "<Figure size 432x288 with 1 Axes>"
      ]
     },
     "metadata": {
      "needs_background": "light"
     },
     "output_type": "display_data"
    }
   ],
   "source": [
    "plt.hist(var_real(X, 2).view(-1).numpy(), bins=50)\n",
    "plt.show()"
   ]
  },
  {
   "cell_type": "code",
   "execution_count": 30,
   "id": "romance-monte",
   "metadata": {},
   "outputs": [
    {
     "data": {
      "image/png": "[encoded data removed]",
      "text/plain": [
       "<Figure size 432x288 with 1 Axes>"
      ]
     },
     "metadata": {
      "needs_background": "light"
     },
     "output_type": "display_data"
    }
   ],
   "source": [
    "plt.hist(var_difference(X, 2).view(-1).numpy(), bins=50)\n",
    "plt.show()"
   ]
  },
  {
   "cell_type": "code",
   "execution_count": 31,
   "id": "adverse-relation",
   "metadata": {},
   "outputs": [
    {
     "data": {
      "text/plain": [
       "tensor(0.)"
      ]
     },
     "execution_count": 31,
     "metadata": {},
     "output_type": "execute_result"
    }
   ],
   "source": [
    "(var_difference(X, 3) < 0).sum() / len(X)**2"
   ]
  },
  {
   "cell_type": "code",
   "execution_count": 32,
   "id": "junior-payroll",
   "metadata": {},
   "outputs": [
    {
     "data": {
      "image/png": "[encoded data removed]",
      "text/plain": [
       "<Figure size 432x288 with 1 Axes>"
      ]
     },
     "metadata": {
      "needs_background": "light"
     },
     "output_type": "display_data"
    }
   ],
   "source": [
    "plt.hist(var_real(X, 3).view(-1).numpy(), bins=50)\n",
    "plt.show()"
   ]
  },
  {
   "cell_type": "code",
   "execution_count": 33,
   "id": "cloudy-gospel",
   "metadata": {},
   "outputs": [
    {
     "data": {
      "image/png": "[encoded data removed]",
      "text/plain": [
       "<Figure size 432x288 with 1 Axes>"
      ]
     },
     "metadata": {
      "needs_background": "light"
     },
     "output_type": "display_data"
    }
   ],
   "source": [
    "plt.hist(var_difference(X, 3).view(-1).numpy(), bins=50)\n",
    "plt.show()"
   ]
  },
  {
   "cell_type": "code",
   "execution_count": 34,
   "id": "inside-overall",
   "metadata": {},
   "outputs": [
    {
     "data": {
      "text/plain": [
       "tensor(0.)"
      ]
     },
     "execution_count": 34,
     "metadata": {},
     "output_type": "execute_result"
    }
   ],
   "source": [
    "(var_difference(X, 4) < 0).sum() / len(X)**2"
   ]
  },
  {
   "cell_type": "code",
   "execution_count": 35,
   "id": "marked-concrete",
   "metadata": {},
   "outputs": [
    {
     "data": {
      "image/png": "[encoded data removed]",
      "text/plain": [
       "<Figure size 432x288 with 1 Axes>"
      ]
     },
     "metadata": {
      "needs_background": "light"
     },
     "output_type": "display_data"
    }
   ],
   "source": [
    "plt.hist(var_real(X, 4).view(-1).numpy(), bins=50)\n",
    "plt.show()"
   ]
  },
  {
   "cell_type": "code",
   "execution_count": 36,
   "id": "protective-flower",
   "metadata": {},
   "outputs": [
    {
     "data": {
      "image/png": "[encoded data removed]",
      "text/plain": [
       "<Figure size 432x288 with 1 Axes>"
      ]
     },
     "metadata": {
      "needs_background": "light"
     },
     "output_type": "display_data"
    }
   ],
   "source": [
    "plt.hist(var_difference(X, 4).view(-1).numpy(), bins=50)\n",
    "plt.show()"
   ]
  },
  {
   "cell_type": "code",
   "execution_count": null,
   "id": "increasing-monte",
   "metadata": {},
   "outputs": [],
   "source": []
  }
 ],
 "metadata": {
  "kernelspec": {
   "display_name": "Python 3",
   "language": "python",
   "name": "python3"
  },
  "language_info": {
   "codemirror_mode": {
    "name": "ipython",
    "version": 3
   },
   "file_extension": ".py",
   "mimetype": "text/x-python",
   "name": "python",
   "nbconvert_exporter": "python",
   "pygments_lexer": "ipython3",
   "version": "3.7.3"
  }
 },
 "nbformat": 4,
 "nbformat_minor": 5
}
